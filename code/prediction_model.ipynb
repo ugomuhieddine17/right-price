{
 "cells": [
  {
   "cell_type": "code",
   "execution_count": 1,
   "metadata": {},
   "outputs": [
    {
     "data": {
      "text/plain": [
       "DataTransformerRegistry.enable('default')"
      ]
     },
     "execution_count": 1,
     "metadata": {},
     "output_type": "execute_result"
    }
   ],
   "source": [
    "#careful\n",
    "import pandas as pd #nul\n",
    "import numpy as np\n",
    "import datetime as dt\n",
    "import matplotlib.pyplot as plt\n",
    "import json\n",
    "import geopandas as gpd\n",
    "from tool_function import *\n",
    "import altair as alt\n",
    "from altair import expr, datum\n",
    "alt.data_transformers.disable_max_rows()"
   ]
  },
  {
   "cell_type": "code",
   "execution_count": 112,
   "metadata": {},
   "outputs": [],
   "source": [
    "#Sklearn\n",
    "from sklearn.preprocessing import OneHotEncoder\n",
    "from sklearn.model_selection import train_test_split\n",
    "from sklearn.ensemble import RandomForestClassifier, RandomForestRegressor\n",
    "from sklearn.metrics import classification_report\n",
    "from sklearn.linear_model import LogisticRegression\n",
    "from sklearn.linear_model import LogisticRegressionCV\n",
    "from sklearn.pipeline import make_pipeline, Pipeline\n",
    "from sklearn.preprocessing import StandardScaler, MinMaxScaler\n",
    "from sklearn.compose import make_column_transformer\n",
    "from sklearn.compose import make_column_selector\n",
    "from sklearn import svm\n",
    "from sklearn.inspection import permutation_importance\n",
    "from sklearn.decomposition import PCA\n",
    "from sklearn.pipeline import make_pipeline\n",
    "from sklearn.manifold import TSNE\n",
    "from sklearn.model_selection import GridSearchCV\n",
    "from sklearn.metrics import r2_score, mean_squared_error, mean_absolute_error\n",
    "from sklearn.metrics import RocCurveDisplay\n",
    "from sklearn.base import clone\n",
    "from sklearn import linear_model\n",
    "import xgboost"
   ]
  },
  {
   "cell_type": "markdown",
   "metadata": {},
   "source": [
    "# Data Prep"
   ]
  },
  {
   "cell_type": "code",
   "execution_count": 3,
   "metadata": {},
   "outputs": [],
   "source": [
    "mutations_init = pd.read_pickle('../../data_mutation/geometric_mutations.pkl')"
   ]
  },
  {
   "cell_type": "code",
   "execution_count": 4,
   "metadata": {},
   "outputs": [
    {
     "name": "stdout",
     "output_type": "stream",
     "text": [
      "hi!\n"
     ]
    },
    {
     "name": "stderr",
     "output_type": "stream",
     "text": [
      "/Users/muhieddineugo/opt/miniconda3/lib/python3.8/site-packages/openpyxl/styles/stylesheet.py:221: UserWarning: Workbook contains no default style, apply openpyxl's default\n",
      "  warn(\"Workbook contains no default style, apply openpyxl's default\")\n"
     ]
    }
   ],
   "source": [
    "mutations_p = mutation_process(mutations_init)\n",
    "mutations_p  = niveau_center_connexion(mutations_p)\n",
    "mutations_p = pop_commune_year(mutations_p)\n",
    "mutations_p = salary_connexion(mutations_p)"
   ]
  },
  {
   "cell_type": "code",
   "execution_count": 18,
   "metadata": {},
   "outputs": [
    {
     "name": "stdout",
     "output_type": "stream",
     "text": [
      "Shape before adjustments and filtering: (1271568, 72)\n",
      "Shape after adjustments and filtering: (633931, 75), that is  49.85% of original observations\n",
      "\n"
     ]
    }
   ],
   "source": [
    "# Creation smoymai, smoyapt, smoyact and adjustment sbati\n",
    "\n",
    "original_shape = mutations_p.shape\n",
    "print(f\"Shape before adjustments and filtering: {original_shape}\")\n",
    "\n",
    "mutations = mutations_p.copy()\n",
    "df_surf = mutations[~((mutations.sbati ==0) & (mutations[['nblocmai', 'nblocapt', 'nblocact']].sum(axis=1) == 0))].copy()\n",
    "\n",
    "test_set['smoymai'] = df_surf.sbatmai/df_surf.nblocmai\n",
    "df_surf['smoyapt'] = df_surf.sbatapt/df_surf.nblocapt\n",
    "df_surf['smoyact'] = df_surf.sbatact/df_surf.nblocact\n",
    "\n",
    "df_surf = df_surf.reset_index(drop=True)\n",
    "df_surf.loc[df_surf[\"sbati\"]==0, \"sbatmai\"] = df_surf.groupby('l_codinsee')['smoymai'].transform(np.nanmedian) * df_surf.nblocmai\n",
    "df_surf.loc[df_surf[\"sbati\"]==0, \"sbatapt\"] = df_surf.groupby('l_codinsee')['smoyapt'].transform(np.nanmedian) * df_surf.nblocapt\n",
    "df_surf.loc[df_surf[\"sbati\"]==0, \"sbatact\"] = df_surf.groupby('l_codinsee')['smoyact'].transform(np.nanmedian) * df_surf.nblocact\n",
    "df_surf.loc[df_surf[\"sbati\"]==0, \"sbati\"] = df_surf[['sbatmai', 'sbatapt', 'sbatact']].sum(axis=1)\n",
    "\n",
    "df_surf = df_surf.reset_index(drop=True)\n",
    "df_surf.loc[df_surf[\"sbati\"]==0, 'sbatmai'] = df_surf.groupby('coddep')['smoymai'].transform(np.nanmedian) * df_surf.nblocmai\n",
    "df_surf.loc[df_surf[\"sbati\"]==0, 'sbatapt'] = df_surf.groupby('coddep')['smoyapt'].transform(np.nanmedian) * df_surf.nblocapt\n",
    "df_surf.loc[df_surf[\"sbati\"]==0, 'sbatact'] = df_surf.groupby('coddep')['smoyact'].transform(np.nanmedian) * df_surf.nblocact\n",
    "df_surf.loc[df_surf[\"sbati\"]==0, 'sbati'] = df_surf[['sbatmai', 'sbatapt', 'sbatact']].sum(axis=1)\n",
    "\n",
    "df_surf['smoymai'] = df_surf.sbatmai/df_surf.nblocmai\n",
    "df_surf['smoyapt'] = df_surf.sbatapt/df_surf.nblocapt\n",
    "df_surf['smoyact'] = df_surf.sbatact/df_surf.nblocact\n",
    "\n",
    "# Filtering out 0 apartments\n",
    "mutations = df_surf[~(df_surf[\"nblocapt\"]==0)].copy()\n",
    "\n",
    "#We only want appartements\n",
    "# wanted_libtypbien = [\"UN APPARTEMENT\", \"APPARTEMENT INDETERMINE\", \"DEUX APPARTEMENTS\", \n",
    "                      # \"BATI - INDETERMINE : Vefa sans descriptif\", \"BATI - INDETERMINE : Vente avec volume(s)\"]  \n",
    "# mutations = mutations[mutations.libtypbien.isin(wanted_libtypbien)].copy()\n",
    "# print(f\"\\nUnique libtypes: {mutations['libtypbien'].unique()}\\n\")\n",
    "\n",
    "# Filtering out small apartments\n",
    "thresh_sbati = 9\n",
    "thresh_valeur = 5000\n",
    "mutations = mutations[(mutations.smoyapt > thresh_sbati) \n",
    "                        & (mutations.valeurfonc>thresh_valeur)\n",
    "                        & ~(mutations.valeurfonc.isna())\n",
    "                        & (mutations.valeurfonc<1000000)].copy()\n",
    "\n",
    "final_shape = mutations.shape\n",
    "print(f\"Shape after adjustments and filtering: {final_shape}, that is {final_shape[0]/original_shape[0]: .2%} of original observations\\n\")"
   ]
  },
  {
   "cell_type": "code",
   "execution_count": 52,
   "metadata": {},
   "outputs": [],
   "source": [
    "##New process\n",
    "mutations['latitude'] = mutations.centroid.x\n",
    "mutations['longitude'] = mutations.centroid.y"
   ]
  },
  {
   "cell_type": "markdown",
   "metadata": {},
   "source": [
    "# Predictions"
   ]
  },
  {
   "cell_type": "code",
   "execution_count": 239,
   "metadata": {},
   "outputs": [],
   "source": [
    "for col in ['month', 'year', 'day']:#, 'coddep', 'l_codinsee']:\n",
    "    mutations[col] = mutations[col].astype('int')"
   ]
  },
  {
   "cell_type": "code",
   "execution_count": 278,
   "metadata": {},
   "outputs": [],
   "source": [
    "features_1 = [\n",
    "       'coddep',  'vefa',\n",
    "       'nblot', 'l_codinsee', 'nbsection', 'nbpar',\n",
    "       'nbparmut', 'nbsuf', 'sterr', 'nbvolmut',\n",
    "       'nblocmut', 'nblocmai', 'nblocapt', 'nblocdep',\n",
    "       'nblocact', 'nbapt1pp', 'nbapt2pp', 'nbapt3pp', 'nbapt4pp', 'nbapt5pp',\n",
    "       'nbmai1pp', 'nbmai2pp', 'nbmai3pp', 'nbmai4pp', 'nbmai5pp', 'sbati',\n",
    "       'sbatmai', 'sbatapt', 'sbatact', 'sapt1pp', 'sapt2pp', 'sapt3pp',\n",
    "       'sapt4pp', 'sapt5pp', 'smai1pp', 'smai2pp', 'smai3pp', 'smai4pp',\n",
    "       'smai5pp', 'codtypbien', 'libtypbien',\n",
    "       'month', 'year', 'day', 'nivcentr',\n",
    "       'population', 'salary', 'smoyapt', 'latitude',\n",
    "       'longitude'\n",
    "]\n",
    "\n",
    "features_2 = [\n",
    "       'month', 'anneemut', 'day', 'salary', 'population',\n",
    "       'coddep', 'latitude', 'longitude',\n",
    "        'l_codinsee', 'sbati', 'sbatmai',\n",
    "       'sbatapt', 'nivcentr', \n",
    "        'sterr', 'smoyapt',\n",
    "        'nblocmai', 'nblocapt', 'nblocact',\n",
    "        'nblocmut', 'sbatact'\n",
    "]"
   ]
  },
  {
   "cell_type": "code",
   "execution_count": 279,
   "metadata": {},
   "outputs": [],
   "source": [
    "def model_fitting(X_train, y_train, features, scaler_cols, model, scalery):\n",
    "    \n",
    "    scalery.fit(y_train)\n",
    "    y_train = scalery.transform(y_train)\n",
    "\n",
    "    x_train_scaled = scaler_cols.fit_transform(X_train)\n",
    "    model.fit(x_train_scaled, y_train.ravel())\n",
    "\n",
    "    return scaler_cols, model, scalery\n",
    "    \n",
    "\n",
    "def test_output(test_set, features, scaler_cols, model, scalery):\n",
    "    \"\"\"\n",
    "    predicting on the test set\n",
    "    \"\"\"\n",
    "    pred = model.predict(scaler_cols.transform(test_set[features]))\n",
    "    inv_pred = scalery.inverse_transform([pred]).ravel()\n",
    "    inv_pred = [elt  if elt > 0 else 5000 for elt in inv_pred]\n",
    "\n",
    "    return inv_pred\n",
    "\n",
    "def val_prediction(val_set, y_test, features, scaler_cols, model, scalery):\n",
    "    \"\"\"\n",
    "    predicting on the test set\n",
    "    \"\"\"\n",
    "    pred = model.predict(scaler_cols.transform(val_set[features]))\n",
    "    inv_pred = scalery.inverse_transform([pred]).ravel()\n",
    "    inv_pred = [elt  if elt > 0 else 5000 for elt in inv_pred]\n",
    "\n",
    "    print(f\"R²: {r2_score(y_test.valeurfonc, inv_pred)}\")\n",
    "    print(f\"RMSE: {np.sqrt(mean_squared_error(y_test.valeurfonc, inv_pred))}\")\n",
    "    print(f\"MSE: {mean_squared_error(y_test.valeurfonc, inv_pred)}\")\n",
    "    print(f\"MAE: {mean_absolute_error(y_test.valeurfonc, inv_pred)}\")\n",
    "\n",
    "    return pred"
   ]
  },
  {
   "cell_type": "code",
   "execution_count": 288,
   "metadata": {},
   "outputs": [],
   "source": [
    "sample_df = mutations[features_2+['valeurfonc']].copy()#sample(n=1500, random_state=42)\n",
    "sample_df = sample_df[sample_df.isna().sum(axis=1) == 0].copy()\n",
    "X = sample_df[features_2].copy()\n",
    "\n",
    "Y = sample_df[['valeurfonc']].copy()\n",
    "X_train, X_test, y_train, y_test = train_test_split(X, Y, test_size=0.33, random_state=42)\n",
    "\n",
    "scalery = MinMaxScaler()\n",
    "ct = make_column_transformer(\n",
    "      (StandardScaler(),\n",
    "        make_column_selector(dtype_include=np.number)),  # rating\n",
    "       (OneHotEncoder(),\n",
    "        make_column_selector(dtype_include=object)))\n",
    "# model = xgboost.XGBRegressor()\n",
    "model = RandomForestRegressor()\n",
    "\n",
    "scaler_cols, model, scalery = model_fitting(X_train, y_train, features_2, ct, model, scalery)"
   ]
  },
  {
   "cell_type": "code",
   "execution_count": 289,
   "metadata": {},
   "outputs": [
    {
     "name": "stdout",
     "output_type": "stream",
     "text": [
      "R²: 0.804494662612627\n",
      "RMSE: 77899.46920433914\n",
      "MSE: 6068327302.317781\n",
      "MAE: 45360.145440356086\n"
     ]
    }
   ],
   "source": [
    "#################\n",
    "#### VALIDATION SET\n",
    "#################\n",
    "val_pred = val_prediction(X_test, y_test, features_2, scaler_cols, model, scalery)"
   ]
  },
  {
   "cell_type": "code",
   "execution_count": 290,
   "metadata": {},
   "outputs": [
    {
     "name": "stdout",
     "output_type": "stream",
     "text": [
      "hi!\n"
     ]
    },
    {
     "name": "stderr",
     "output_type": "stream",
     "text": [
      "/Users/muhieddineugo/opt/miniconda3/lib/python3.8/site-packages/openpyxl/styles/stylesheet.py:221: UserWarning: Workbook contains no default style, apply openpyxl's default\n",
      "  warn(\"Workbook contains no default style, apply openpyxl's default\")\n"
     ]
    }
   ],
   "source": [
    "#################\n",
    "#### TEST OUTPUT\n",
    "#################\n",
    "test_set = pd.read_csv('../../data_mutation/test_set.csv', sep=';')\n",
    "test_set = mutation_test_process(test_set)\n",
    "test_set  = niveau_center_connexion(test_set)\n",
    "test_set = pop_commune_year(test_set)\n",
    "test_set = salary_connexion(test_set)\n",
    "\n",
    "test_set['smoymai'] = test_set.sbatmai/test_set.nblocmai\n",
    "test_set['smoyapt'] = test_set.sbatapt/test_set.nblocapt\n",
    "test_set['smoyact'] = test_set.sbatact/test_set.nblocact\n",
    "test_pred = test_output(test_set, features_2, scaler_cols, model, scalery)"
   ]
  }
 ],
 "metadata": {
  "kernelspec": {
   "display_name": "Python 3.8.5 ('base')",
   "language": "python",
   "name": "python3"
  },
  "language_info": {
   "codemirror_mode": {
    "name": "ipython",
    "version": 3
   },
   "file_extension": ".py",
   "mimetype": "text/x-python",
   "name": "python",
   "nbconvert_exporter": "python",
   "pygments_lexer": "ipython3",
   "version": "3.8.5"
  },
  "orig_nbformat": 4,
  "vscode": {
   "interpreter": {
    "hash": "bc895b69e755cdb2d9601c81f5369a2139eccb1bb64c066cd88f550054f4d0ce"
   }
  }
 },
 "nbformat": 4,
 "nbformat_minor": 2
}
